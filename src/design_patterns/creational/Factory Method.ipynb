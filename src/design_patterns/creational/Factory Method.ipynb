{
 "cells": [
  {
   "cell_type": "markdown",
   "id": "3e5d833d",
   "metadata": {},
   "source": [
    "# Factory Method\n",
    "\n",
    "\n",
    "## Resources\n",
    "- [Refactoring Guru](https://refactoring.guru/design-patterns/factory-method)\n",
    "- [Design Patterns for Humans](https://github.com/kamranahmedse/design-patterns-for-humans#-factory-method)"
   ]
  },
  {
   "cell_type": "markdown",
   "id": "16e71c65",
   "metadata": {},
   "source": [
    "## Problem\n",
    "You are building agiota.io, an application that connects clients who needs a loan with loan sharks, and you want to have a nice way to create different kinds of loan sharks:\n",
    "- The Peacemaker\n",
    "- The One Punch Man\n",
    "- The \"Hits First, Talks Last\""
   ]
  },
  {
   "cell_type": "markdown",
   "id": "6a304adf",
   "metadata": {},
   "source": [
    "## Solution\n",
    "You can create an interface that represents your loan shark, make all your classes to extends it and decide what kind of loan shark is more appropriated to your client:\n",
    "![Template Method](../../../assets/images/template_method.png)"
   ]
  },
  {
   "cell_type": "markdown",
   "id": "8b1dc413",
   "metadata": {},
   "source": [
    "## Implementation"
   ]
  },
  {
   "cell_type": "code",
   "execution_count": 2,
   "id": "d96c730d",
   "metadata": {},
   "outputs": [
    {
     "name": "stdout",
     "output_type": "stream",
     "text": [
      "The client was hit... and then, charged.\n"
     ]
    }
   ],
   "source": [
    "interface LoanShark {\n",
    "    fun charge(): String\n",
    "}\n",
    "\n",
    "class PeaceMakerLoanShark : LoanShark {\n",
    "    override fun charge(): String {\n",
    "        return \"The client was charged peacefully.\"\n",
    "    }\n",
    "}\n",
    "\n",
    "class OnePunchManLoanShark : LoanShark {\n",
    "    override fun charge(): String {\n",
    "        return \"I don't know why, but the client is unconscious.\"\n",
    "    }\n",
    "}\n",
    "\n",
    "class HitsFirstTalksLastLoanShark : LoanShark {\n",
    "    override fun charge(): String {\n",
    "        return \"The client was hit... and then, charged.\"\n",
    "    }\n",
    "}\n",
    "\n",
    "object LoanSharkCreator {\n",
    "    fun create(clientCharacteristic: String): LoanShark {\n",
    "        return when (clientCharacteristic) {\n",
    "            \"stressed\" -> HitsFirstTalksLastLoanShark()\n",
    "            \"smart-ass\" -> OnePunchManLoanShark()\n",
    "            else -> PeaceMakerLoanShark()\n",
    "        }\n",
    "    }\n",
    "}\n",
    "\n",
    "fun main() {\n",
    "    val clientCharacteristic = \"stressed\"\n",
    "    \n",
    "    val loanShark = when (clientCharacteristic) {\n",
    "        \"stressed\" -> HitsFirstTalksLastLoanShark()\n",
    "        \"smart-ass\" -> OnePunchManLoanShark()\n",
    "        else -> PeaceMakerLoanShark()\n",
    "    }\n",
    "    \n",
    "    println(loanShark.charge())\n",
    "}\n",
    "\n",
    "main()"
   ]
  }
 ],
 "metadata": {
  "kernelspec": {
   "display_name": "Kotlin",
   "language": "kotlin",
   "name": "kotlin"
  },
  "language_info": {
   "codemirror_mode": "text/x-kotlin",
   "file_extension": ".kt",
   "mimetype": "text/x-kotlin",
   "name": "kotlin",
   "nbconvert_exporter": "",
   "pygments_lexer": "kotlin",
   "version": "1.6.0-dev-3567"
  }
 },
 "nbformat": 4,
 "nbformat_minor": 5
}
